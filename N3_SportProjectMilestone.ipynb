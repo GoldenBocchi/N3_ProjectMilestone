{
 "cells": [
  {
   "cell_type": "code",
   "execution_count": 1,
   "metadata": {},
   "outputs": [
    {
     "name": "stdout",
     "output_type": "stream",
     "text": [
      "Collecting import_ipynb\n",
      "  Downloading import_ipynb-0.1.4-py3-none-any.whl (4.1 kB)\n",
      "Requirement already satisfied: nbformat in /opt/conda/lib/python3.7/site-packages (from import_ipynb) (5.0.6)\n",
      "Requirement already satisfied: IPython in /opt/conda/lib/python3.7/site-packages (from import_ipynb) (7.14.0)\n",
      "Requirement already satisfied: setuptools>=18.5 in /opt/conda/lib/python3.7/site-packages (from IPython->import_ipynb) (46.1.3.post20200325)\n",
      "Requirement already satisfied: prompt-toolkit!=3.0.0,!=3.0.1,<3.1.0,>=2.0.0 in /opt/conda/lib/python3.7/site-packages (from IPython->import_ipynb) (3.0.5)\n",
      "Requirement already satisfied: backcall in /opt/conda/lib/python3.7/site-packages (from IPython->import_ipynb) (0.1.0)\n",
      "Requirement already satisfied: pygments in /opt/conda/lib/python3.7/site-packages (from IPython->import_ipynb) (2.6.1)\n",
      "Requirement already satisfied: traitlets>=4.2 in /opt/conda/lib/python3.7/site-packages (from IPython->import_ipynb) (4.3.3)\n",
      "Requirement already satisfied: pickleshare in /opt/conda/lib/python3.7/site-packages (from IPython->import_ipynb) (0.7.5)\n",
      "Requirement already satisfied: jedi>=0.10 in /opt/conda/lib/python3.7/site-packages (from IPython->import_ipynb) (0.17.0)\n",
      "Requirement already satisfied: pexpect in /opt/conda/lib/python3.7/site-packages (from IPython->import_ipynb) (4.8.0)\n",
      "Requirement already satisfied: decorator in /opt/conda/lib/python3.7/site-packages (from IPython->import_ipynb) (4.4.2)\n",
      "Requirement already satisfied: jsonschema!=2.5.0,>=2.4 in /opt/conda/lib/python3.7/site-packages (from nbformat->import_ipynb) (3.2.0)\n",
      "Requirement already satisfied: ipython-genutils in /opt/conda/lib/python3.7/site-packages (from nbformat->import_ipynb) (0.2.0)\n",
      "Requirement already satisfied: jupyter-core in /opt/conda/lib/python3.7/site-packages (from nbformat->import_ipynb) (4.6.3)\n",
      "Requirement already satisfied: parso>=0.7.0 in /opt/conda/lib/python3.7/site-packages (from jedi>=0.10->IPython->import_ipynb) (0.7.0)\n",
      "Requirement already satisfied: importlib-metadata in /opt/conda/lib/python3.7/site-packages (from jsonschema!=2.5.0,>=2.4->nbformat->import_ipynb) (1.6.0)\n",
      "Requirement already satisfied: attrs>=17.4.0 in /opt/conda/lib/python3.7/site-packages (from jsonschema!=2.5.0,>=2.4->nbformat->import_ipynb) (19.3.0)\n",
      "Requirement already satisfied: pyrsistent>=0.14.0 in /opt/conda/lib/python3.7/site-packages (from jsonschema!=2.5.0,>=2.4->nbformat->import_ipynb) (0.16.0)\n",
      "Requirement already satisfied: six>=1.11.0 in /opt/conda/lib/python3.7/site-packages (from jsonschema!=2.5.0,>=2.4->nbformat->import_ipynb) (1.14.0)\n",
      "Requirement already satisfied: wcwidth in /opt/conda/lib/python3.7/site-packages (from prompt-toolkit!=3.0.0,!=3.0.1,<3.1.0,>=2.0.0->IPython->import_ipynb) (0.1.9)\n",
      "Requirement already satisfied: ptyprocess>=0.5 in /opt/conda/lib/python3.7/site-packages (from pexpect->IPython->import_ipynb) (0.6.0)\n",
      "Requirement already satisfied: zipp>=0.5 in /opt/conda/lib/python3.7/site-packages (from importlib-metadata->jsonschema!=2.5.0,>=2.4->nbformat->import_ipynb) (3.1.0)\n",
      "Installing collected packages: import-ipynb\n",
      "Successfully installed import-ipynb-0.1.4\n",
      "\u001b[33mWARNING: You are using pip version 21.3.1; however, version 23.3.1 is available.\n",
      "You should consider upgrading via the '/opt/conda/bin/python -m pip install --upgrade pip' command.\u001b[0m\n",
      "Note: you may need to restart the kernel to use updated packages.\n"
     ]
    }
   ],
   "source": [
    "pip install import_ipynb"
   ]
  },
  {
   "cell_type": "code",
   "execution_count": 1,
   "metadata": {},
   "outputs": [
    {
     "name": "stdout",
     "output_type": "stream",
     "text": [
      "importing Jupyter notebook from N1_SportProjectMilestone.ipynb\n",
      "Male athletes\n",
      "ID        101590\n",
      "Name      100979\n",
      "Sex            1\n",
      "Age           74\n",
      "Height        92\n",
      "Weight       206\n",
      "Team        1154\n",
      "NOC          230\n",
      "Games         51\n",
      "Year          35\n",
      "Season         2\n",
      "City          42\n",
      "Sport         63\n",
      "Event        554\n",
      "Medal          3\n",
      "dtype: int64\n",
      "---\n",
      "Female athletes\n",
      "ID        33981\n",
      "Name      33808\n",
      "Sex           1\n",
      "Age          62\n",
      "Height       77\n",
      "Weight      140\n",
      "Team        374\n",
      "NOC         222\n",
      "Games        50\n",
      "Year         34\n",
      "Season        2\n",
      "City         42\n",
      "Sport        53\n",
      "Event       269\n",
      "Medal         3\n",
      "dtype: int64\n",
      "Summer games\n",
      "ID        116776\n",
      "Name      116122\n",
      "Sex            2\n",
      "Age           74\n",
      "Height        95\n",
      "Weight       219\n",
      "Team        1157\n",
      "NOC          230\n",
      "Games         29\n",
      "Year          29\n",
      "Season         1\n",
      "City          23\n",
      "Sport         52\n",
      "Event        651\n",
      "Medal          3\n",
      "dtype: int64\n",
      "---\n",
      "Winter games\n",
      "ID        18958\n",
      "Name      18923\n",
      "Sex           2\n",
      "Age          47\n",
      "Height       64\n",
      "Weight      125\n",
      "Team        221\n",
      "NOC         119\n",
      "Games        22\n",
      "Year         22\n",
      "Season        1\n",
      "City         19\n",
      "Sport        17\n",
      "Event       119\n",
      "Medal         3\n",
      "dtype: int64\n"
     ]
    }
   ],
   "source": [
    "import pandas as pd\n",
    "import matplotlib.pyplot as plt\n",
    "from pandasql import sqldf\n",
    "pysqldf = lambda q: sqldf(q, globals())\n",
    "\n",
    "import import_ipynb\n",
    "from N1_SportProjectMilestone import Summer_Games, Winter_Games"
   ]
  },
  {
   "cell_type": "markdown",
   "metadata": {},
   "source": [
    "# Correlation coefficient\n",
    "The correlation index is a statistical measure that quantifies the relationship between two variables. In other words, it indicates how one variable changes when the other variable changes. This index provides information about the direction and strength of the relationship between the two variables.\n",
    "\n",
    "The most common correlation index is the Pearson correlation coefficient, denoted as \"r,\" which ranges from -1 to 1. Here's a brief explanation of how to interpret \"r\" values:\n",
    "\n",
    "r = 1: Indicates a perfect positive correlation, meaning that as one variable increases, the other also increases in the same proportion.\n",
    "\n",
    "r = -1: Indicates a perfect negative correlation, meaning that as one variable increases, the other decreases in the same proportion.\n",
    "\n",
    "r = 0: Indicates a lack of linear correlation between the two variables.\n",
    "\n",
    "0 < |r| < 1: Indicates a positive or negative correlation, depending on the sign of \"r.\" The closer the absolute value of \"r\" is to 1, the stronger the correlation.\n",
    "\n",
    "It's important to note that correlation does not imply causation. Just because two variables are correlated does not necessarily mean that one causes the other; there may be other variables or factors at play. Additionally, correlation specifically focuses on linear relationships; there may be non-linear relationships that are not well captured by the Pearson correlation coefficient."
   ]
  },
  {
   "cell_type": "code",
   "execution_count": 3,
   "metadata": {},
   "outputs": [],
   "source": [
    "summer_medal_count = pysqldf('''\n",
    "                         SELECT\n",
    "                             Year,\n",
    "                             COUNT(*) AS total_count,\n",
    "                             SUM(CASE\n",
    "                                   WHEN Medal IS NOT NULL THEN 1 ELSE 0\n",
    "                                 END) AS medal_count,\n",
    "                             SUM(CASE\n",
    "                                   WHEN Medal = \"Gold\" THEN 1 ELSE 0\n",
    "                                 END) AS gold_count,\n",
    "                             SUM(CASE\n",
    "                                   WHEN Medal = \"Silver\" THEN 1 ELSE 0\n",
    "                                 END) AS silver_count,\n",
    "                             SUM(CASE\n",
    "                                   WHEN Medal = \"Bronze\" THEN 1 ELSE 0\n",
    "                                 END) AS bronze_count\n",
    "                             FROM\n",
    "                               Summer_Games\n",
    "                             GROUP BY\n",
    "                               Year \n",
    "                                   ''')"
   ]
  },
  {
   "cell_type": "code",
   "execution_count": 5,
   "metadata": {},
   "outputs": [],
   "source": [
    "winter_medal_count = pysqldf('''\n",
    "                         SELECT\n",
    "                             Year,\n",
    "                             COUNT(*) AS total_count,\n",
    "                             SUM(CASE\n",
    "                                   WHEN Medal IS NOT NULL THEN 1 ELSE 0\n",
    "                                 END) AS medal_count,\n",
    "                             SUM(CASE\n",
    "                                   WHEN Medal = \"Gold\" THEN 1 ELSE 0\n",
    "                                 END) AS gold_count,\n",
    "                             SUM(CASE\n",
    "                                   WHEN Medal = \"Silver\" THEN 1 ELSE 0\n",
    "                                 END) AS silver_count,\n",
    "                             SUM(CASE\n",
    "                                   WHEN Medal = \"Bronze\" THEN 1 ELSE 0\n",
    "                                 END) AS bronze_count\n",
    "                             FROM\n",
    "                               Winter_Games\n",
    "                             GROUP BY\n",
    "                               Year \n",
    "                                   ''')"
   ]
  },
  {
   "cell_type": "code",
   "execution_count": 6,
   "metadata": {},
   "outputs": [
    {
     "name": "stdout",
     "output_type": "stream",
     "text": [
      "   Year  total_count  medal_count  gold_count  silver_count  bronze_count\n",
      "0  1896          380          143          62            43            38\n",
      "1  1900         1936          604         201           228           175\n",
      "2  1904         1301          486         173           163           150\n",
      "3  1906         1733          458         157           156           145\n",
      "4  1908         3101          831         294           281           256\n"
     ]
    }
   ],
   "source": [
    "print(summer_medal_count.head())"
   ]
  },
  {
   "cell_type": "code",
   "execution_count": 7,
   "metadata": {},
   "outputs": [
    {
     "name": "stdout",
     "output_type": "stream",
     "text": [
      "   Year  total_count  medal_count  gold_count  silver_count  bronze_count\n",
      "0  1924          460          130          55            38            37\n",
      "1  1928          582           89          30            28            31\n",
      "2  1932          352           92          32            32            28\n",
      "3  1936          895          108          36            37            35\n",
      "4  1948         1075          135          41            48            46\n"
     ]
    }
   ],
   "source": [
    "print(winter_medal_count.head())"
   ]
  },
  {
   "cell_type": "code",
   "execution_count": 18,
   "metadata": {},
   "outputs": [
    {
     "name": "stdout",
     "output_type": "stream",
     "text": [
      "    Year  total_count  medal_count  gold_count  silver_count  bronze_count\n",
      "0   1924          460          130          55            38            37\n",
      "1   1928          582           89          30            28            31\n",
      "2   1932          352           92          32            32            28\n",
      "3   1936          895          108          36            37            35\n",
      "4   1948         1075          135          41            48            46\n",
      "5   1952         1088          136          45            44            47\n",
      "6   1956         1307          150          51            49            50\n",
      "7   1960         1116          147          50            48            49\n",
      "8   1964         1778          186          61            67            58\n",
      "9   1968         1891          199          66            70            63\n",
      "10  1972         1655          199          70            63            66\n",
      "11  1976         1861          211          70            71            70\n",
      "12  1980         1746          218          72            73            73\n",
      "13  1984         2134          222          74            74            74\n",
      "14  1988         2639          263          87            88            88\n",
      "15  1992         3436          318         104           108           106\n",
      "16  1994         3160          331         110           109           112\n",
      "17  1998         3605          440         145           145           150\n",
      "18  2002         4109          478         162           157           159\n",
      "19  2006         4382          526         176           175           175\n",
      "20  2010         4402          520         174           175           171\n",
      "21  2014         4891          597         202           197           198\n"
     ]
    }
   ],
   "source": [
    "print(winter_medal_count)"
   ]
  },
  {
   "cell_type": "markdown",
   "metadata": {},
   "source": [
    "Winter games started in 1924, but Summer games started in 1986. The difference between the total of games are 7 registers."
   ]
  },
  {
   "cell_type": "code",
   "execution_count": 8,
   "metadata": {},
   "outputs": [
    {
     "name": "stdout",
     "output_type": "stream",
     "text": [
      "    Year  total_count  medal_count  gold_count  silver_count  bronze_count\n",
      "0   1896          380          143          62            43            38\n",
      "1   1900         1936          604         201           228           175\n",
      "2   1904         1301          486         173           163           150\n",
      "3   1906         1733          458         157           156           145\n",
      "4   1908         3101          831         294           281           256\n",
      "5   1912         4040          941         326           315           300\n",
      "6   1920         4292         1308         493           448           367\n",
      "7   1924         5233          832         277           281           274\n",
      "8   1928         4992          734         245           239           250\n",
      "9   1932         2969          647         229           214           204\n",
      "10  1936         6506          917         312           310           295\n",
      "11  1948         6405          852         289           284           279\n",
      "12  1952         8270          897         306           291           300\n",
      "13  1956         5127          893         302           293           298\n",
      "14  1960         8119          911         309           294           308\n",
      "15  1964         7702         1029         347           339           343\n",
      "16  1968         8588         1057         359           340           358\n",
      "17  1972        10304         1215         404           392           419\n",
      "18  1976         8641         1320         438           434           448\n",
      "19  1980         7191         1384         457           458           469\n",
      "20  1984         9454         1476         497           477           502\n",
      "21  1988        12037         1582         520           513           549\n",
      "22  1992        12977         1712         559           549           604\n",
      "23  1996        13780         1842         608           605           629\n",
      "24  2000        13821         2004         663           661           680\n",
      "25  2004        13443         2001         664           660           677\n",
      "26  2008        13602         2048         671           667           710\n",
      "27  2012        12920         1941         632           630           679\n",
      "28  2016        13688         2023         665           655           703\n"
     ]
    }
   ],
   "source": [
    "print(summer_medal_count)"
   ]
  },
  {
   "cell_type": "markdown",
   "metadata": {},
   "source": [
    "# we need to start in the 7º elment of summer_medal_count DF"
   ]
  },
  {
   "cell_type": "code",
   "execution_count": 9,
   "metadata": {},
   "outputs": [],
   "source": [
    "summer_medal_count_new = summer_medal_count[7:]"
   ]
  },
  {
   "cell_type": "code",
   "execution_count": 10,
   "metadata": {},
   "outputs": [
    {
     "name": "stdout",
     "output_type": "stream",
     "text": [
      "    Year  total_count  medal_count  gold_count  silver_count  bronze_count\n",
      "7   1924         5233          832         277           281           274\n",
      "8   1928         4992          734         245           239           250\n",
      "9   1932         2969          647         229           214           204\n",
      "10  1936         6506          917         312           310           295\n",
      "11  1948         6405          852         289           284           279\n",
      "12  1952         8270          897         306           291           300\n",
      "13  1956         5127          893         302           293           298\n",
      "14  1960         8119          911         309           294           308\n",
      "15  1964         7702         1029         347           339           343\n",
      "16  1968         8588         1057         359           340           358\n",
      "17  1972        10304         1215         404           392           419\n",
      "18  1976         8641         1320         438           434           448\n",
      "19  1980         7191         1384         457           458           469\n",
      "20  1984         9454         1476         497           477           502\n",
      "21  1988        12037         1582         520           513           549\n",
      "22  1992        12977         1712         559           549           604\n",
      "23  1996        13780         1842         608           605           629\n",
      "24  2000        13821         2004         663           661           680\n",
      "25  2004        13443         2001         664           660           677\n",
      "26  2008        13602         2048         671           667           710\n",
      "27  2012        12920         1941         632           630           679\n",
      "28  2016        13688         2023         665           655           703\n"
     ]
    }
   ],
   "source": [
    "print(summer_medal_count_new)"
   ]
  },
  {
   "cell_type": "code",
   "execution_count": 11,
   "metadata": {},
   "outputs": [],
   "source": [
    "import numpy as np"
   ]
  },
  {
   "cell_type": "code",
   "execution_count": null,
   "metadata": {},
   "outputs": [],
   "source": []
  },
  {
   "cell_type": "code",
   "execution_count": 12,
   "metadata": {},
   "outputs": [],
   "source": [
    "x_simple = winter_medal_count.medal_count\n",
    "y_simple = summer_medal_count_new.medal_count\n",
    "my_rho = np.corrcoef(x_simple, y_simple)"
   ]
  },
  {
   "cell_type": "code",
   "execution_count": 17,
   "metadata": {},
   "outputs": [
    {
     "name": "stdout",
     "output_type": "stream",
     "text": [
      "7      832\n",
      "8      734\n",
      "9      647\n",
      "10     917\n",
      "11     852\n",
      "12     897\n",
      "13     893\n",
      "14     911\n",
      "15    1029\n",
      "16    1057\n",
      "17    1215\n",
      "18    1320\n",
      "19    1384\n",
      "20    1476\n",
      "21    1582\n",
      "22    1712\n",
      "23    1842\n",
      "24    2004\n",
      "25    2001\n",
      "26    2048\n",
      "27    1941\n",
      "28    2023\n",
      "Name: medal_count, dtype: int64\n"
     ]
    }
   ],
   "source": [
    "print(y_simple)"
   ]
  },
  {
   "cell_type": "code",
   "execution_count": 13,
   "metadata": {},
   "outputs": [
    {
     "name": "stdout",
     "output_type": "stream",
     "text": [
      "[[1.         0.94141801]\n",
      " [0.94141801 1.        ]]\n"
     ]
    }
   ],
   "source": [
    "\n",
    "print(my_rho)"
   ]
  },
  {
   "cell_type": "markdown",
   "metadata": {},
   "source": [
    "# Analisis\n",
    "the correlation coefficient show us thar there is almost a perfecto correlation (94%) between winter an summer games. "
   ]
  },
  {
   "cell_type": "code",
   "execution_count": 14,
   "metadata": {},
   "outputs": [],
   "source": [
    "std_medal_count_summer_olympics = np.std(y_simple)\n",
    "std_medal_count_winter_olympics = np.std(x_simple)"
   ]
  },
  {
   "cell_type": "code",
   "execution_count": 15,
   "metadata": {},
   "outputs": [
    {
     "name": "stdout",
     "output_type": "stream",
     "text": [
      "std_medal_count_summer_olympics = 475.323015441357\n",
      "std_medal_count_winter_olympics = 152.56899942903493\n"
     ]
    }
   ],
   "source": [
    "\n",
    "print(\"std_medal_count_summer_olympics =\",std_medal_count_summer_olympics)\n",
    "print(\"std_medal_count_winter_olympics =\",std_medal_count_winter_olympics)"
   ]
  },
  {
   "cell_type": "markdown",
   "metadata": {},
   "source": [
    "From 1924 to 2016, as the standard deviation in the summer olympics is about 3 times that in the winter olympics, country performance by year change more in Summer Olympics."
   ]
  },
  {
   "cell_type": "code",
   "execution_count": null,
   "metadata": {},
   "outputs": [],
   "source": []
  }
 ],
 "metadata": {
  "kernelspec": {
   "display_name": "Python 3",
   "language": "python",
   "name": "python3"
  },
  "language_info": {
   "codemirror_mode": {
    "name": "ipython",
    "version": 3
   },
   "file_extension": ".py",
   "mimetype": "text/x-python",
   "name": "python",
   "nbconvert_exporter": "python",
   "pygments_lexer": "ipython3",
   "version": "3.7.6"
  }
 },
 "nbformat": 4,
 "nbformat_minor": 4
}
